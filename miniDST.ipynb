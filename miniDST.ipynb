{
 "cells": [
  {
   "cell_type": "code",
   "execution_count": 1,
   "id": "surprised-childhood",
   "metadata": {},
   "outputs": [
    {
     "name": "stdout",
     "output_type": "stream",
     "text": [
      "/cvmfs/sft.cern.ch/lcg/views/LCG_100/x86_64-centos7-gcc8-opt\r\n",
      "\n"
     ]
    }
   ],
   "source": [
    "!echo $LCIO"
   ]
  },
  {
   "cell_type": "code",
   "execution_count": 2,
   "id": "charming-childhood",
   "metadata": {},
   "outputs": [
    {
     "name": "stderr",
     "output_type": "stream",
     "text": [
      "Error in cling::AutoLoadingVisitor::InsertIntoAutoLoadingState:\n",
      "   Missing FileEntry for include/pre-generated/IO/ILCFactory.h\n",
      "   requested to autoload type IO::ILCFactory\n",
      "Error in cling::AutoLoadingVisitor::InsertIntoAutoLoadingState:\n",
      "   Missing FileEntry for include/pre-generated/IO/LCEventListener.h\n",
      "   requested to autoload type IO::LCEventListener\n",
      "Error in cling::AutoLoadingVisitor::InsertIntoAutoLoadingState:\n",
      "   Missing FileEntry for include/pre-generated/IO/LCReader.h\n",
      "   requested to autoload type IO::LCReader\n",
      "Error in cling::AutoLoadingVisitor::InsertIntoAutoLoadingState:\n",
      "   Missing FileEntry for include/pre-generated/IO/LCRunListener.h\n",
      "   requested to autoload type IO::LCRunListener\n",
      "Error in cling::AutoLoadingVisitor::InsertIntoAutoLoadingState:\n",
      "   Missing FileEntry for include/pre-generated/IO/LCWriter.h\n",
      "   requested to autoload type IO::LCWriter\n",
      "Error in cling::AutoLoadingVisitor::InsertIntoAutoLoadingState:\n",
      "   Missing FileEntry for include/pre-generated/EVENT/CalorimeterHit.h\n",
      "   requested to autoload type EVENT::CalorimeterHit\n",
      "Error in cling::AutoLoadingVisitor::InsertIntoAutoLoadingState:\n",
      "   Missing FileEntry for include/pre-generated/EVENT/Cluster.h\n",
      "   requested to autoload type EVENT::Cluster\n",
      "Error in cling::AutoLoadingVisitor::InsertIntoAutoLoadingState:\n",
      "   Missing FileEntry for include/pre-generated/EVENT/LCCollection.h\n",
      "   requested to autoload type EVENT::LCCollection\n",
      "Error in cling::AutoLoadingVisitor::InsertIntoAutoLoadingState:\n",
      "   Missing FileEntry for include/pre-generated/EVENT/LCEvent.h\n",
      "   requested to autoload type EVENT::LCEvent\n",
      "Error in cling::AutoLoadingVisitor::InsertIntoAutoLoadingState:\n",
      "   Missing FileEntry for include/pre-generated/EVENT/LCFlag.h\n",
      "   requested to autoload type EVENT::LCFlag\n",
      "Error in cling::AutoLoadingVisitor::InsertIntoAutoLoadingState:\n",
      "   Missing FileEntry for include/pre-generated/EVENT/LCFloatVec.h\n",
      "   requested to autoload type EVENT::LCFloatVec\n",
      "Error in cling::AutoLoadingVisitor::InsertIntoAutoLoadingState:\n",
      "   Missing FileEntry for include/pre-generated/EVENT/LCGenericObject.h\n",
      "   requested to autoload type EVENT::LCGenericObject\n",
      "Error in cling::AutoLoadingVisitor::InsertIntoAutoLoadingState:\n",
      "   Missing FileEntry for include/pre-generated/EVENT/LCIO.h\n",
      "   requested to autoload type EVENT::LCIO\n",
      "Error in cling::AutoLoadingVisitor::InsertIntoAutoLoadingState:\n",
      "   Missing FileEntry for include/pre-generated/EVENT/LCIntVec.h\n",
      "   requested to autoload type EVENT::LCIntVec\n",
      "Error in cling::AutoLoadingVisitor::InsertIntoAutoLoadingState:\n",
      "   Missing FileEntry for include/pre-generated/EVENT/LCRelation.h\n",
      "   requested to autoload type EVENT::LCRelation\n",
      "Error in cling::AutoLoadingVisitor::InsertIntoAutoLoadingState:\n",
      "   Missing FileEntry for include/pre-generated/EVENT/LCRunHeader.h\n",
      "   requested to autoload type EVENT::LCRunHeader\n",
      "Error in cling::AutoLoadingVisitor::InsertIntoAutoLoadingState:\n",
      "   Missing FileEntry for include/pre-generated/EVENT/LCStrVec.h\n",
      "   requested to autoload type EVENT::LCStrVec\n",
      "Error in cling::AutoLoadingVisitor::InsertIntoAutoLoadingState:\n",
      "   Missing FileEntry for include/pre-generated/EVENT/MCParticle.h\n",
      "   requested to autoload type EVENT::MCParticle\n",
      "Error in cling::AutoLoadingVisitor::InsertIntoAutoLoadingState:\n",
      "   Missing FileEntry for include/pre-generated/EVENT/RawCalorimeterHit.h\n",
      "   requested to autoload type EVENT::RawCalorimeterHit\n",
      "Error in cling::AutoLoadingVisitor::InsertIntoAutoLoadingState:\n",
      "   Missing FileEntry for include/pre-generated/EVENT/ReconstructedParticle.h\n",
      "   requested to autoload type EVENT::ReconstructedParticle\n",
      "Error in cling::AutoLoadingVisitor::InsertIntoAutoLoadingState:\n",
      "   Missing FileEntry for include/pre-generated/EVENT/SimCalorimeterHit.h\n",
      "   requested to autoload type EVENT::SimCalorimeterHit\n",
      "Error in cling::AutoLoadingVisitor::InsertIntoAutoLoadingState:\n",
      "   Missing FileEntry for include/pre-generated/EVENT/SimTrackerHit.h\n",
      "   requested to autoload type EVENT::SimTrackerHit\n",
      "Error in cling::AutoLoadingVisitor::InsertIntoAutoLoadingState:\n",
      "   Missing FileEntry for include/pre-generated/EVENT/TPCHit.h\n",
      "   requested to autoload type EVENT::TPCHit\n",
      "Error in cling::AutoLoadingVisitor::InsertIntoAutoLoadingState:\n",
      "   Missing FileEntry for include/pre-generated/EVENT/TrackerData.h\n",
      "   requested to autoload type EVENT::TrackerData\n",
      "Error in cling::AutoLoadingVisitor::InsertIntoAutoLoadingState:\n",
      "   Missing FileEntry for include/pre-generated/EVENT/TrackerHitPlane.h\n",
      "   requested to autoload type EVENT::TrackerHitPlane\n",
      "Error in cling::AutoLoadingVisitor::InsertIntoAutoLoadingState:\n",
      "   Missing FileEntry for include/pre-generated/EVENT/TrackerHitZCylinder.h\n",
      "   requested to autoload type EVENT::TrackerHitZCylinder\n",
      "Error in cling::AutoLoadingVisitor::InsertIntoAutoLoadingState:\n",
      "   Missing FileEntry for include/pre-generated/EVENT/TrackerPulse.h\n",
      "   requested to autoload type EVENT::TrackerPulse\n",
      "Error in cling::AutoLoadingVisitor::InsertIntoAutoLoadingState:\n",
      "   Missing FileEntry for include/pre-generated/EVENT/TrackerRawData.h\n",
      "   requested to autoload type EVENT::TrackerRawData\n",
      "Error in cling::AutoLoadingVisitor::InsertIntoAutoLoadingState:\n",
      "   Missing FileEntry for include/pre-generated/EVENT/Vertex.h\n",
      "   requested to autoload type EVENT::Vertex\n",
      "Error in cling::AutoLoadingVisitor::InsertIntoAutoLoadingState:\n",
      "   Missing FileEntry for include/IOIMPL/LCEventLazyImpl.h\n",
      "   requested to autoload type IOIMPL::LCEventLazyImpl\n"
     ]
    }
   ],
   "source": [
    "gInterpreter->AddIncludePath(\"$LCIO\");\n",
    "gSystem->Load(\"${LCIO}/lib/liblcio.so\");\n",
    "gSystem->Load(\"${LCIO}/lib/liblcioDict.so\");"
   ]
  },
  {
   "cell_type": "code",
   "execution_count": null,
   "id": "presidential-clause",
   "metadata": {},
   "outputs": [],
   "source": [
    "!git clone https://github.com/ILDAnaSoft/miniDST.git"
   ]
  },
  {
   "cell_type": "code",
   "execution_count": null,
   "id": "printable-juice",
   "metadata": {},
   "outputs": [],
   "source": [
    ".L miniDST/examples/higgs_recoil.C"
   ]
  },
  {
   "cell_type": "code",
   "execution_count": null,
   "id": "desperate-incentive",
   "metadata": {},
   "outputs": [],
   "source": [
    "higgs_recoil( \"rv01-16-p10_250.sv01-14-01-p00.mILD_o1_v05.E250-TDR_ws.I106479.Pe2e2h.eL.pR-00001-ILDminiDST.slcio\" )"
   ]
  },
  {
   "cell_type": "code",
   "execution_count": null,
   "id": "chronic-image",
   "metadata": {},
   "outputs": [],
   "source": [
    "auto canvas = (TCanvas*)gROOT->GetListOfCanvases()->At(0)"
   ]
  },
  {
   "cell_type": "code",
   "execution_count": null,
   "id": "familiar-studio",
   "metadata": {},
   "outputs": [],
   "source": [
    "canvas->Draw()"
   ]
  },
  {
   "cell_type": "code",
   "execution_count": null,
   "id": "regional-diploma",
   "metadata": {},
   "outputs": [],
   "source": []
  }
 ],
 "metadata": {
  "kernelspec": {
   "display_name": "ROOT C++",
   "language": "c++",
   "name": "root"
  },
  "language_info": {
   "codemirror_mode": "text/x-c++src",
   "file_extension": ".C",
   "mimetype": " text/x-c++src",
   "name": "c++"
  }
 },
 "nbformat": 4,
 "nbformat_minor": 5
}
