{
 "cells": [
  {
   "cell_type": "code",
   "execution_count": 1,
   "id": "fuzzy-sessions",
   "metadata": {},
   "outputs": [
    {
     "name": "stdout",
     "output_type": "stream",
     "text": [
      "/cvmfs/sft.cern.ch/lcg/views/LCG_100/x86_64-centos7-gcc8-opt\r\n",
      "\n"
     ]
    }
   ],
   "source": [
    "!echo $LCIO"
   ]
  },
  {
   "cell_type": "code",
   "execution_count": 2,
   "id": "environmental-property",
   "metadata": {
    "scrolled": true
   },
   "outputs": [
    {
     "name": "stderr",
     "output_type": "stream",
     "text": [
      "Error in cling::AutoLoadingVisitor::InsertIntoAutoLoadingState:\n",
      "   Missing FileEntry for include/pre-generated/IO/ILCFactory.h\n",
      "   requested to autoload type IO::ILCFactory\n",
      "Error in cling::AutoLoadingVisitor::InsertIntoAutoLoadingState:\n",
      "   Missing FileEntry for include/pre-generated/IO/LCEventListener.h\n",
      "   requested to autoload type IO::LCEventListener\n",
      "Error in cling::AutoLoadingVisitor::InsertIntoAutoLoadingState:\n",
      "   Missing FileEntry for include/pre-generated/IO/LCReader.h\n",
      "   requested to autoload type IO::LCReader\n",
      "Error in cling::AutoLoadingVisitor::InsertIntoAutoLoadingState:\n",
      "   Missing FileEntry for include/pre-generated/IO/LCRunListener.h\n",
      "   requested to autoload type IO::LCRunListener\n",
      "Error in cling::AutoLoadingVisitor::InsertIntoAutoLoadingState:\n",
      "   Missing FileEntry for include/pre-generated/IO/LCWriter.h\n",
      "   requested to autoload type IO::LCWriter\n",
      "Error in cling::AutoLoadingVisitor::InsertIntoAutoLoadingState:\n",
      "   Missing FileEntry for include/pre-generated/EVENT/CalorimeterHit.h\n",
      "   requested to autoload type EVENT::CalorimeterHit\n",
      "Error in cling::AutoLoadingVisitor::InsertIntoAutoLoadingState:\n",
      "   Missing FileEntry for include/pre-generated/EVENT/Cluster.h\n",
      "   requested to autoload type EVENT::Cluster\n",
      "Error in cling::AutoLoadingVisitor::InsertIntoAutoLoadingState:\n",
      "   Missing FileEntry for include/pre-generated/EVENT/LCCollection.h\n",
      "   requested to autoload type EVENT::LCCollection\n",
      "Error in cling::AutoLoadingVisitor::InsertIntoAutoLoadingState:\n",
      "   Missing FileEntry for include/pre-generated/EVENT/LCEvent.h\n",
      "   requested to autoload type EVENT::LCEvent\n",
      "Error in cling::AutoLoadingVisitor::InsertIntoAutoLoadingState:\n",
      "   Missing FileEntry for include/pre-generated/EVENT/LCFlag.h\n",
      "   requested to autoload type EVENT::LCFlag\n",
      "Error in cling::AutoLoadingVisitor::InsertIntoAutoLoadingState:\n",
      "   Missing FileEntry for include/pre-generated/EVENT/LCFloatVec.h\n",
      "   requested to autoload type EVENT::LCFloatVec\n",
      "Error in cling::AutoLoadingVisitor::InsertIntoAutoLoadingState:\n",
      "   Missing FileEntry for include/pre-generated/EVENT/LCGenericObject.h\n",
      "   requested to autoload type EVENT::LCGenericObject\n",
      "Error in cling::AutoLoadingVisitor::InsertIntoAutoLoadingState:\n",
      "   Missing FileEntry for include/pre-generated/EVENT/LCIO.h\n",
      "   requested to autoload type EVENT::LCIO\n",
      "Error in cling::AutoLoadingVisitor::InsertIntoAutoLoadingState:\n",
      "   Missing FileEntry for include/pre-generated/EVENT/LCIntVec.h\n",
      "   requested to autoload type EVENT::LCIntVec\n",
      "Error in cling::AutoLoadingVisitor::InsertIntoAutoLoadingState:\n",
      "   Missing FileEntry for include/pre-generated/EVENT/LCRelation.h\n",
      "   requested to autoload type EVENT::LCRelation\n",
      "Error in cling::AutoLoadingVisitor::InsertIntoAutoLoadingState:\n",
      "   Missing FileEntry for include/pre-generated/EVENT/LCRunHeader.h\n",
      "   requested to autoload type EVENT::LCRunHeader\n",
      "Error in cling::AutoLoadingVisitor::InsertIntoAutoLoadingState:\n",
      "   Missing FileEntry for include/pre-generated/EVENT/LCStrVec.h\n",
      "   requested to autoload type EVENT::LCStrVec\n",
      "Error in cling::AutoLoadingVisitor::InsertIntoAutoLoadingState:\n",
      "   Missing FileEntry for include/pre-generated/EVENT/MCParticle.h\n",
      "   requested to autoload type EVENT::MCParticle\n",
      "Error in cling::AutoLoadingVisitor::InsertIntoAutoLoadingState:\n",
      "   Missing FileEntry for include/pre-generated/EVENT/RawCalorimeterHit.h\n",
      "   requested to autoload type EVENT::RawCalorimeterHit\n",
      "Error in cling::AutoLoadingVisitor::InsertIntoAutoLoadingState:\n",
      "   Missing FileEntry for include/pre-generated/EVENT/ReconstructedParticle.h\n",
      "   requested to autoload type EVENT::ReconstructedParticle\n",
      "Error in cling::AutoLoadingVisitor::InsertIntoAutoLoadingState:\n",
      "   Missing FileEntry for include/pre-generated/EVENT/SimCalorimeterHit.h\n",
      "   requested to autoload type EVENT::SimCalorimeterHit\n",
      "Error in cling::AutoLoadingVisitor::InsertIntoAutoLoadingState:\n",
      "   Missing FileEntry for include/pre-generated/EVENT/SimTrackerHit.h\n",
      "   requested to autoload type EVENT::SimTrackerHit\n",
      "Error in cling::AutoLoadingVisitor::InsertIntoAutoLoadingState:\n",
      "   Missing FileEntry for include/pre-generated/EVENT/TPCHit.h\n",
      "   requested to autoload type EVENT::TPCHit\n",
      "Error in cling::AutoLoadingVisitor::InsertIntoAutoLoadingState:\n",
      "   Missing FileEntry for include/pre-generated/EVENT/TrackerData.h\n",
      "   requested to autoload type EVENT::TrackerData\n",
      "Error in cling::AutoLoadingVisitor::InsertIntoAutoLoadingState:\n",
      "   Missing FileEntry for include/pre-generated/EVENT/TrackerHitPlane.h\n",
      "   requested to autoload type EVENT::TrackerHitPlane\n",
      "Error in cling::AutoLoadingVisitor::InsertIntoAutoLoadingState:\n",
      "   Missing FileEntry for include/pre-generated/EVENT/TrackerHitZCylinder.h\n",
      "   requested to autoload type EVENT::TrackerHitZCylinder\n",
      "Error in cling::AutoLoadingVisitor::InsertIntoAutoLoadingState:\n",
      "   Missing FileEntry for include/pre-generated/EVENT/TrackerPulse.h\n",
      "   requested to autoload type EVENT::TrackerPulse\n",
      "Error in cling::AutoLoadingVisitor::InsertIntoAutoLoadingState:\n",
      "   Missing FileEntry for include/pre-generated/EVENT/TrackerRawData.h\n",
      "   requested to autoload type EVENT::TrackerRawData\n",
      "Error in cling::AutoLoadingVisitor::InsertIntoAutoLoadingState:\n",
      "   Missing FileEntry for include/pre-generated/EVENT/Vertex.h\n",
      "   requested to autoload type EVENT::Vertex\n",
      "Error in cling::AutoLoadingVisitor::InsertIntoAutoLoadingState:\n",
      "   Missing FileEntry for include/IOIMPL/LCEventLazyImpl.h\n",
      "   requested to autoload type IOIMPL::LCEventLazyImpl\n"
     ]
    }
   ],
   "source": [
    "gInterpreter->AddIncludePath(\"$LCIO\");\n",
    "gSystem->Load(\"${LCIO}/lib/liblcio.so\");\n",
    "gSystem->Load(\"${LCIO}/lib/liblcioDict.so\");"
   ]
  },
  {
   "cell_type": "code",
   "execution_count": 3,
   "id": "exterior-guitar",
   "metadata": {},
   "outputs": [
    {
     "name": "stdout",
     "output_type": "stream",
     "text": [
      "fatal: destination path 'miniDST' already exists and is not an empty directory.\r\n",
      "\n"
     ]
    }
   ],
   "source": [
    "!git clone https://github.com/ILDAnaSoft/miniDST.git"
   ]
  },
  {
   "cell_type": "code",
   "execution_count": 4,
   "id": "familiar-carter",
   "metadata": {
    "scrolled": true
   },
   "outputs": [
    {
     "name": "stdout",
     "output_type": "stream",
     "text": [
      "  % Total    % Received % Xferd  Average Speed   Time    Time     Time  Current\n",
      "\n",
      "\n",
      "                                 Dload  Upload   Total   Spent    Left  Speed\n",
      "\n",
      "\n",
      "\n",
      "\n",
      "  0     0    0     0    0     0      0      0 --:--:-- --:--:-- --:--:--     0\n",
      "\n",
      "  0  174M    0 1736k    0     0  1933k      0  0:01:32 --:--:--  0:01:32 1933k\n",
      "\n",
      "  6  174M    6 11.0M    0     0  5970k      0  0:00:29  0:00:01  0:00:28 5967k\n",
      "\n",
      " 11  174M   11 20.4M    0     0  7246k      0  0:00:24  0:00:02  0:00:22 7244k\n",
      "\n",
      " 17  174M   17 29.8M    0     0  7847k      0  0:00:22  0:00:03  0:00:19 7847k\n",
      "\n",
      " 22  174M   22 39.1M    0     0  8204k      0  0:00:21  0:00:04  0:00:17 8202k\n",
      "\n",
      " 27  174M   27 48.5M    0     0  8442k      0  0:00:21  0:00:05  0:00:16 9611k\n",
      "\n",
      " 33  174M   33 58.0M    0     0  8622k      0  0:00:20  0:00:06  0:00:14 9624k\n",
      "\n",
      " 38  174M   38 67.3M    0     0  8738k      0  0:00:20  0:00:07  0:00:13 9601k\n",
      "\n",
      " 44  174M   44 76.7M    0     0  8840k      0  0:00:20  0:00:08  0:00:12 9614k\n",
      "\n",
      " 49  174M   49 86.1M    0     0  8924k      0  0:00:19  0:00:09  0:00:10 9628k\n",
      "\n",
      " 54  174M   54 95.4M    0     0  8979k      0  0:00:19  0:00:10  0:00:09 9610k\n",
      "\n",
      " 60  174M   60  104M    0     0  9038k      0  0:00:19  0:00:11  0:00:08 9611k\n",
      "\n",
      " 65  174M   65  114M    0     0  9079k      0  0:00:19  0:00:12  0:00:07 9616k\n",
      "\n",
      " 71  174M   71  123M    0     0  9112k      0  0:00:19  0:00:13  0:00:06 9596k\n",
      "\n",
      " 76  174M   76  132M    0     0  9127k      0  0:00:19  0:00:14  0:00:05 9529k\n",
      "\n",
      " 81  174M   81  142M    0     0  9158k      0  0:00:19  0:00:15  0:00:04 9551k\n",
      "\n",
      " 86  174M   86  151M    0     0  9184k      0  0:00:19  0:00:16  0:00:03 9531k\n",
      "\n",
      " 92  174M   92  160M    0     0  9203k      0  0:00:19  0:00:17  0:00:02 9521k\n",
      "100  174M  100  174M    0     0  9234k      0  0:00:19  0:00:19 --:--:-- 9597k\n",
      "\n"
     ]
    }
   ],
   "source": [
    "!curl -o rv01-16-p10_250.sv01-14-01-p00.mILD_o1_v05.E250-TDR_ws.I106479.Pe2e2h.eL.pR-00001-ILDminiDST.slcio https://desycloud.desy.de/index.php/s/5LmrjGWqziQfMe7/download"
   ]
  },
  {
   "cell_type": "code",
   "execution_count": 5,
   "id": "infectious-stock",
   "metadata": {
    "scrolled": true
   },
   "outputs": [
    {
     "name": "stdout",
     "output_type": "stream",
     "text": [
      "#ifndef __CINT__ \r\n",
      "#include \"lcio.h\"\r\n",
      "#include \"IO/LCReader.h\"\r\n",
      "#include \"IOIMPL/LCFactory.h\"\r\n",
      "#include \"EVENT/LCCollection.h\"\r\n",
      "#include \"EVENT/ReconstructedParticle.h\"\r\n",
      "#include \"EVENT/LCEvent.h\"\r\n",
      "#include \"UTIL/LCTOOLS.h\"\r\n",
      "#include \"UTIL/LCIterator.h\"\r\n",
      "#endif\r\n",
      "\r\n",
      "#include \"TH1F.h\"\r\n",
      "#include \"TLorentzVector.h\"\r\n",
      "\r\n",
      "/*\r\n",
      "put this into your .rootlogon.C file\r\n",
      "\r\n",
      "{\r\n",
      " gInterpreter->AddIncludePath(\"$LCIO\");\r\n",
      " gSystem->Load(\"${LCIO}/lib/liblcio.so\");\r\n",
      " gSystem->Load(\"${LCIO}/lib/liblcioDict.so\");\r\n",
      "}\r\n",
      "\r\n",
      "for the LCIO API documentation see:\r\n",
      "http://lcio.desy.de/v02-09/doc/doxygen_api/html/index.html\r\n",
      "*/\r\n",
      "\r\n",
      "\r\n",
      "using namespace lcio ;\r\n",
      "\r\n",
      "\r\n",
      "\r\n",
      "template<class T>\r\n",
      "double inv_mass(T* p1, T* p2){\r\n",
      "  double e = p1->getEnergy()+p2->getEnergy() ;\r\n",
      "  double px = p1->getMomentum()[0]+p2->getMomentum()[0];\r\n",
      "  double py = p1->getMomentum()[1]+p2->getMomentum()[1];\r\n",
      "  double pz = p1->getMomentum()[2]+p2->getMomentum()[2];\r\n",
      "  return( sqrt( e*e - px*px - py*py - pz*pz  ) );\r\n",
      "}\r\n",
      "\r\n",
      "template<class T>\r\n",
      "TLorentzVector v4(T* p){\r\n",
      "  return TLorentzVector( p->getMomentum()[0],p->getMomentum()[1], p->getMomentum()[2],p->getEnergy());\r\n",
      "}\r\n",
      "\r\n",
      "/** Example script for creating invariant mass plots from a ee -> HZ-> X mu mu sample\r\n",
      " *\r\n",
      " */\r\n",
      " \r\n",
      "void higgs_recoil(const char* FILEN, TString outname = \"recoil_plot\") {\r\n",
      "\r\n",
      " int nEvents = 0  ;\r\n",
      " int maxEvt = 10000 ;  // change as needed\r\n",
      "\r\n",
      "//---- create histogram ----\r\n",
      "\r\n",
      " TH1F* hrecoilm    = new TH1F(\"hrecoilm\",\";recoil mass [GeV]; ; \", 100, 110. , 170. ) ;\r\n",
      "\r\n",
      "//------ collection to use: \r\n",
      "//------ ALWAYS read also PandoraPFOs / PFOs when reading IsolatedX collections! -------\r\n",
      "\r\n",
      " const char* muoColName = \"IsolatedMuons\";\r\n",
      "\t\r\n",
      " // DBD & SGV\t\r\n",
      " const char* pfoColName = \"PandoraPFOs\";\r\n",
      " bool isDelphes = false;\r\n",
      " \r\n",
      "//  // delphes2lcio\r\n",
      "//  const char* pfoColName = \"PFOs\";\r\n",
      "//  bool isDelphes = true;\r\n",
      " \r\n",
      "//---------------------------------\r\n",
      " IO::LCReader* lcReader = IOIMPL::LCFactory::getInstance()->createLCReader() ;\r\n",
      " lcReader->setReadCollectionNames( { pfoColName, muoColName } );\r\n",
      " lcReader->open( FILEN ) ;\r\n",
      "  \r\n",
      "\r\n",
      " EVENT::LCEvent* evt ;\r\n",
      " \r\n",
      " int fail2muon = 0;\r\n",
      " \r\n",
      "  \r\n",
      " //==================== the event loop ============================================================\r\n",
      " while( ( evt = lcReader->readNextEvent()) != 0  && nEvents++ < maxEvt ) {\r\n",
      "\r\n",
      "   \r\n",
      "   LCIterator<ReconstructedParticle> muons( evt, muoColName ) ;\r\n",
      "\r\n",
      "   // for simplicity only consider events with two muons\r\n",
      "   if( muons.size() != 2 ) {fail2muon++; continue;}\r\n",
      "\r\n",
      "   // the two muons and their four-vectors\r\n",
      "   auto mu1 = muons.next(); \r\n",
      "   auto mu2 = muons.next();    \r\n",
      "   const auto& vm1 = v4(mu1) ;\r\n",
      "   const auto& vm2 = v4(mu2) ;\r\n",
      "   \r\n",
      "   // the recoil mass\r\n",
      "   double pxinitial = 0.;\r\n",
      "   double Einitial = 250.;\r\n",
      "   // in full sim & SGV, correct for crossing angle\r\n",
      "   if (!isDelphes) {  \r\n",
      "     pxinitial = Einitial*0.007; \r\n",
      "     Einitial = 2.*std::sqrt(std::pow(Einitial/2.,2) + std::pow(pxinitial,2));\r\n",
      "   }\r\n",
      "   TLorentzVector ecms(pxinitial,0.,0.,Einitial) ;\r\n",
      "   TLorentzVector recoil = ecms - ( vm1 + vm2 ) ;\r\n",
      "   hrecoilm->Fill( recoil.M() ) ;\r\n",
      "   \r\n",
      " }\r\n",
      "\r\n",
      " //===================================================================================================\r\n",
      " gStyle->SetOptStat(10);\r\n",
      " //===================================================================================================\r\n",
      "  \r\n",
      " TCanvas* c1 = new TCanvas(\"recoil plots\",\"recoil plot\",800,600);\r\n",
      " hrecoilm->Draw() ;\r\n",
      "\r\n",
      " TString outnamepdf = outname + \".pdf\";\r\n",
      " c1->SaveAs(outnamepdf);\r\n",
      "\r\n",
      " TString outnameRoot  = outname + \".root\";\r\n",
      " TFile outputFile (outnameRoot,\"RECREATE\");\r\n",
      " \r\n",
      " hrecoilm->Write();  \r\n",
      " \r\n",
      " outputFile.Close();\r\n",
      " //===================================================================================================\r\n",
      "\r\n",
      "  std::cout << std::endl \r\n",
      "\t    <<  \"  \" <<  nEvents \r\n",
      "\t    << \" events read from file: \" \r\n",
      "\t    << FILEN << std::endl  ;\r\n",
      "  std::cout <<  \" out of which \" <<  fail2muon  \r\n",
      "\t    << \" events don't have two muons \" << std::endl  ;\r\n",
      "  \r\n",
      "  \r\n",
      "  lcReader->close() ;\r\n",
      "  delete lcReader ;\r\n",
      "}\r\n",
      "\n"
     ]
    }
   ],
   "source": [
    "!cat miniDST/examples/higgs_recoil.C"
   ]
  },
  {
   "cell_type": "code",
   "execution_count": 6,
   "id": "linear-discretion",
   "metadata": {},
   "outputs": [],
   "source": [
    ".L miniDST/examples/higgs_recoil.C"
   ]
  },
  {
   "cell_type": "code",
   "execution_count": 7,
   "id": "structured-transport",
   "metadata": {},
   "outputs": [
    {
     "name": "stdout",
     "output_type": "stream",
     "text": [
      "\n",
      "  10001 events read from file: rv01-16-p10_250.sv01-14-01-p00.mILD_o1_v05.E250-TDR_ws.I106479.Pe2e2h.eL.pR-00001-ILDminiDST.slcio\n",
      " out of which 1096 events don't have two muons \n"
     ]
    },
    {
     "name": "stderr",
     "output_type": "stream",
     "text": [
      "Info in <TCanvas::Print>: pdf file recoil_plot.pdf has been created\n"
     ]
    }
   ],
   "source": [
    "higgs_recoil( \"rv01-16-p10_250.sv01-14-01-p00.mILD_o1_v05.E250-TDR_ws.I106479.Pe2e2h.eL.pR-00001-ILDminiDST.slcio\" )"
   ]
  },
  {
   "cell_type": "code",
   "execution_count": 8,
   "id": "therapeutic-tyler",
   "metadata": {},
   "outputs": [
    {
     "name": "stdout",
     "output_type": "stream",
     "text": [
      "(TCanvas *) @0x7faa156d1a20\n"
     ]
    }
   ],
   "source": [
    "auto canvas = (TCanvas*)gROOT->GetListOfCanvases()->At(0)"
   ]
  },
  {
   "cell_type": "code",
   "execution_count": 9,
   "id": "religious-alexander",
   "metadata": {},
   "outputs": [
    {
     "data": {
      "image/png": "[encoded data removed]",
      "text/plain": [
       "<IPython.core.display.Image object>"
      ]
     },
     "metadata": {},
     "output_type": "display_data"
    }
   ],
   "source": [
    "canvas->Draw()"
   ]
  },
  {
   "cell_type": "code",
   "execution_count": null,
   "id": "compound-landscape",
   "metadata": {},
   "outputs": [],
   "source": []
  }
 ],
 "metadata": {
  "kernelspec": {
   "display_name": "ROOT C++",
   "language": "c++",
   "name": "root"
  },
  "language_info": {
   "codemirror_mode": "text/x-c++src",
   "file_extension": ".C",
   "mimetype": " text/x-c++src",
   "name": "c++"
  }
 },
 "nbformat": 4,
 "nbformat_minor": 5
}
